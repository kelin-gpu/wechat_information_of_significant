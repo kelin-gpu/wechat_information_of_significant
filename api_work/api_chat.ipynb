{
 "cells": [
  {
   "cell_type": "code",
   "id": "initial_id",
   "metadata": {
    "ExecuteTime": {
     "end_time": "2025-10-15T10:20:33.448271Z",
     "start_time": "2025-10-15T10:20:32.732382Z"
    }
   },
   "source": [
    "import os\n",
    "from openai import OpenAI"
   ],
   "outputs": [],
   "execution_count": 1
  },
  {
   "metadata": {
    "ExecuteTime": {
     "end_time": "2025-10-15T10:20:33.462285Z",
     "start_time": "2025-10-15T10:20:33.448271Z"
    }
   },
   "cell_type": "code",
   "source": "os.environ[\"DASHSCOPE_API_KEY\"] = \"\"  # 您的百炼API Key",
   "id": "cad4633036294b67",
   "outputs": [],
   "execution_count": 2
  },
  {
   "metadata": {
    "ExecuteTime": {
     "end_time": "2025-10-15T10:20:33.478384Z",
     "start_time": "2025-10-15T10:20:33.462285Z"
    }
   },
   "cell_type": "code",
   "source": [
    "prompt = f\"\"\"\n",
    "你是一个专门分析科技社团群聊记录价值的AI助手。请根据以下多维评分体系，对给定的聊天记录进行分析，输出0-1的重要性评分（保留四位小数）。\n",
    "\n",
    "【评分维度与权重】\n",
    "1. 技术价值 (权重0.3)\n",
    "   - 是否包含具体可落地的技术细节/代码/方法\n",
    "   - 是否提供可复现的步骤或解决方案\n",
    "   - 技术深度与社团定位的匹配度(NOVA关注AI、数据决策、项目实践)\n",
    "\n",
    "2. 问题解决价值 (权重0.25)\n",
    "   - 是否形成\"问题-分析-方案-验证\"完整闭环\n",
    "   - 问题描述的清晰度(环境、步骤、现象)\n",
    "   - 解决方案的可借鉴性和泛化能力\n",
    "\n",
    "3. 信息时效价值 (权重0.2)\n",
    "   - 信息的稀缺性和时效性\n",
    "   - 与NOVA社团项目/活动的关联度\n",
    "   - 是否包含行动建议或机会提示\n",
    "\n",
    "4. 协作推进价值 (权重0.15)\n",
    "   - 是否明确任务分工、进度安排\n",
    "   - 是否有助于减少沟通成本\n",
    "   - 是否包含具体的时间节点和责任人\n",
    "\n",
    "5. 成长启发价值 (权重0.1)\n",
    "   - 是否提供学习路径或思维方法\n",
    "   - 是否体现NOVA\"问题导向、自主驱动\"理念\n",
    "   - 是否有助于成员从被动学习转向主动创造\n",
    "\n",
    "【NOVA特色加分项】(+0.05)\n",
    "- 涉及社团实际项目(宿舍分配、校园卡系统等)\n",
    "- 提及语雀平台、技术沙龙、跨校区活动\n",
    "- 体现模块化思维、知识图谱等NOVA特色方法\n",
    "\n",
    "【评分计算】\n",
    "总分 = (技术价值×0.3 + 问题解决×0.25 + 信息时效×0.2 + 协作推进×0.15 + 成长启发×0.1) + 特色加分\n",
    "最终得分限制在0-1范围内\n",
    "\"\"\""
   ],
   "id": "154214dd1da22cdf",
   "outputs": [],
   "execution_count": 3
  },
  {
   "metadata": {
    "ExecuteTime": {
     "end_time": "2025-10-15T10:20:33.497376Z",
     "start_time": "2025-10-15T10:20:33.491472Z"
    }
   },
   "cell_type": "code",
   "source": "print(prompt)",
   "id": "2573ec5cb92fbc90",
   "outputs": [
    {
     "name": "stdout",
     "output_type": "stream",
     "text": [
      "\n",
      "你是一个专门分析科技社团群聊记录价值的AI助手。请根据以下多维评分体系，对给定的聊天记录进行分析，输出0-1的重要性评分（保留四位小数）。\n",
      "\n",
      "【评分维度与权重】\n",
      "1. 技术价值 (权重0.3)\n",
      "   - 是否包含具体可落地的技术细节/代码/方法\n",
      "   - 是否提供可复现的步骤或解决方案\n",
      "   - 技术深度与社团定位的匹配度(NOVA关注AI、数据决策、项目实践)\n",
      "\n",
      "2. 问题解决价值 (权重0.25)\n",
      "   - 是否形成\"问题-分析-方案-验证\"完整闭环\n",
      "   - 问题描述的清晰度(环境、步骤、现象)\n",
      "   - 解决方案的可借鉴性和泛化能力\n",
      "\n",
      "3. 信息时效价值 (权重0.2)\n",
      "   - 信息的稀缺性和时效性\n",
      "   - 与NOVA社团项目/活动的关联度\n",
      "   - 是否包含行动建议或机会提示\n",
      "\n",
      "4. 协作推进价值 (权重0.15)\n",
      "   - 是否明确任务分工、进度安排\n",
      "   - 是否有助于减少沟通成本\n",
      "   - 是否包含具体的时间节点和责任人\n",
      "\n",
      "5. 成长启发价值 (权重0.1)\n",
      "   - 是否提供学习路径或思维方法\n",
      "   - 是否体现NOVA\"问题导向、自主驱动\"理念\n",
      "   - 是否有助于成员从被动学习转向主动创造\n",
      "\n",
      "【NOVA特色加分项】(+0.05)\n",
      "- 涉及社团实际项目(宿舍分配、校园卡系统等)\n",
      "- 提及语雀平台、技术沙龙、跨校区活动\n",
      "- 体现模块化思维、知识图谱等NOVA特色方法\n",
      "\n",
      "【评分计算】\n",
      "总分 = (技术价值×0.3 + 问题解决×0.25 + 信息时效×0.2 + 协作推进×0.15 + 成长启发×0.1) + 特色加分\n",
      "最终得分限制在0-1范围内\n",
      "\n"
     ]
    }
   ],
   "execution_count": 4
  },
  {
   "metadata": {
    "ExecuteTime": {
     "end_time": "2025-10-15T10:20:34.718782Z",
     "start_time": "2025-10-15T10:20:33.507493Z"
    }
   },
   "cell_type": "code",
   "source": [
    "message = \"应该不是吧 计算机系的服务器都114.212开头的\"\n",
    "\n",
    "def call_qwen_model():\n",
    "    # 初始化客户端\n",
    "    client = OpenAI(\n",
    "        api_key=os.getenv(\"DASHSCOPE_API_KEY\"),\n",
    "        base_url=\"https://dashscope.aliyuncs.com/compatible-mode/v1\",\n",
    "    )\n",
    "\n",
    "    # 调用模型\n",
    "    completion = client.chat.completions.create(\n",
    "        model=\"qwen-plus\",  # 可以尝试其他模型如 \"qwen-turbo\", \"qwen-max\"\n",
    "        messages=[\n",
    "            {\"role\": \"system\", f\"content\": prompt},\n",
    "            {\"role\": \"user\", \"content\": f\"请分析以下聊天记录，按照上述标准输出重要性评分，不需要输出其他的东西：{message},输出格式：x.xxxx\"},\n",
    "        ],\n",
    "        temperature=0.5,  # 控制创造性，0-1之间\n",
    "        max_tokens=1000,   # 最大输出token数\n",
    "    )\n",
    "\n",
    "    # # 输出结果\n",
    "    # print(\"=== 完整响应 ===\")\n",
    "    # print(completion.model_dump_json(indent=2))\n",
    "\n",
    "    # print(\"\\n=== 回复内容 ===\")\n",
    "    # print(completion.choices[0].message.content)\n",
    "    x = completion.choices[0].message.content\n",
    "    return x\n",
    "\n",
    "\n",
    "# 执行调用\n",
    "result = call_qwen_model()"
   ],
   "id": "c572554a13438af2",
   "outputs": [],
   "execution_count": 5
  },
  {
   "metadata": {
    "ExecuteTime": {
     "end_time": "2025-10-15T10:20:45.229469Z",
     "start_time": "2025-10-15T10:20:45.225140Z"
    }
   },
   "cell_type": "code",
   "source": "print(result)",
   "id": "dbb7f35c00be8efb",
   "outputs": [
    {
     "name": "stdout",
     "output_type": "stream",
     "text": [
      "0.3250\n"
     ]
    }
   ],
   "execution_count": 6
  },
  {
   "metadata": {
    "ExecuteTime": {
     "end_time": "2025-10-15T10:20:48.161983Z",
     "start_time": "2025-10-15T10:20:47.489296Z"
    }
   },
   "cell_type": "code",
   "source": [
    "import pandas as pd\n",
    "df = pd.read_csv(\"ama_group_message.csv\")\n",
    "df"
   ],
   "id": "3457dbd5894b9829",
   "outputs": [
    {
     "data": {
      "text/plain": [
       "                                                   wxid         duration  \\\n",
       "0     wxid_bk2z2t2ychyn22,wxid_9hpjr3hpy6th22,wxid_g...  0 days 00:01:11   \n",
       "1     wxid_1vaqhsp5n5hs22,wxid_g7u000tjc91t22,wxid_r...  0 days 00:02:42   \n",
       "2     wxid_6djxj0s8zolf22,wxid_g7u000tjc91t22,wxid_m...  0 days 00:02:06   \n",
       "3     wxid_mugbf0fhylqf22,wxid_g7u000tjc91t22,wxid_y...  0 days 00:11:22   \n",
       "4     wxid_g7u000tjc91t22,wxid_urt2jnq879zd29,voup_w...  0 days 00:14:21   \n",
       "...                                                 ...              ...   \n",
       "2710  wxid_2m6mvqnohoy032,wxid_g7u000tjc91t22,wxid_r...  0 days 00:09:07   \n",
       "2711  wxid_m76swlb22bn132,wxid_g7u000tjc91t22,wxid_r...  0 days 00:03:21   \n",
       "2712  wxid_mugbf0fhylqf22,wxid_1jauivdztqzt22,wxid_g...  0 days 00:01:23   \n",
       "2713  wxid_g7u000tjc91t22,wxid_mugbf0fhylqf22,wxid_m...  0 days 00:01:35   \n",
       "2714  wxid_m76swlb22bn132,wxid_g7u000tjc91t22,wxid_m...  0 days 00:04:07   \n",
       "\n",
       "                                                   Text  \n",
       "0     👀\\n👀\\n你不乘噢\\n👀\\n👀\\n之前在食堂偶遇的[捂脸]\\n@25 匡院 苏涵瑜 我在你...  \n",
       "1     真的很无聊了\\nxm社牛\\n[表情包]\\n[表情包]\\n我说现在@25 匡院 苏涵瑜 \\n[...  \n",
       "2     东西两个操场（）\\n欢迎新人 @25 匡院 洪翌铭 \\n[耶][耶][耶]\\n大佬们好\\n(...  \n",
       "3     cjdsa\\n[表情包]\\n好巧\\n我也是六排。\\n[表情包]\\n天哪我才3分钟没看群感觉被...  \n",
       "4     [表情包]\\n[旺柴][旺柴][旺柴]\\n用screentogif，一个软件\\n我用的是LI...  \n",
       "...                                                 ...  \n",
       "2710  第一次不是peace老师第一个点赞！\\n[表情包]\\n[表情包]\\n@25 电子 谷和平 谷...  \n",
       "2711  刚在看文档，发现好多人没用模板\\n[表情包]\\n[表情包]\\n[表情包]\\n哪里有模版我看看...  \n",
       "2712  斯国一\\n群里怎么每次进来都是你们几个\\n[表情包]\\n[表情包]\\n哈？\\n[图片]\\n还...  \n",
       "2713  [表情包]\\n[表情包]\\n[表情包]\\n心疼健小熊今天的早八人\\n表情包全是水群水来的\\n...  \n",
       "2714  全体吗\\n[表情包]\\n是的\\n[表情包]\\n[表情包]\\n[表情包]\\n[表情包]\\n[表情包]  \n",
       "\n",
       "[2715 rows x 3 columns]"
      ],
      "text/html": [
       "<div>\n",
       "<style scoped>\n",
       "    .dataframe tbody tr th:only-of-type {\n",
       "        vertical-align: middle;\n",
       "    }\n",
       "\n",
       "    .dataframe tbody tr th {\n",
       "        vertical-align: top;\n",
       "    }\n",
       "\n",
       "    .dataframe thead th {\n",
       "        text-align: right;\n",
       "    }\n",
       "</style>\n",
       "<table border=\"1\" class=\"dataframe\">\n",
       "  <thead>\n",
       "    <tr style=\"text-align: right;\">\n",
       "      <th></th>\n",
       "      <th>wxid</th>\n",
       "      <th>duration</th>\n",
       "      <th>Text</th>\n",
       "    </tr>\n",
       "  </thead>\n",
       "  <tbody>\n",
       "    <tr>\n",
       "      <th>0</th>\n",
       "      <td>wxid_bk2z2t2ychyn22,wxid_9hpjr3hpy6th22,wxid_g...</td>\n",
       "      <td>0 days 00:01:11</td>\n",
       "      <td>👀\\n👀\\n你不乘噢\\n👀\\n👀\\n之前在食堂偶遇的[捂脸]\\n@25 匡院 苏涵瑜 我在你...</td>\n",
       "    </tr>\n",
       "    <tr>\n",
       "      <th>1</th>\n",
       "      <td>wxid_1vaqhsp5n5hs22,wxid_g7u000tjc91t22,wxid_r...</td>\n",
       "      <td>0 days 00:02:42</td>\n",
       "      <td>真的很无聊了\\nxm社牛\\n[表情包]\\n[表情包]\\n我说现在@25 匡院 苏涵瑜 \\n[...</td>\n",
       "    </tr>\n",
       "    <tr>\n",
       "      <th>2</th>\n",
       "      <td>wxid_6djxj0s8zolf22,wxid_g7u000tjc91t22,wxid_m...</td>\n",
       "      <td>0 days 00:02:06</td>\n",
       "      <td>东西两个操场（）\\n欢迎新人 @25 匡院 洪翌铭 \\n[耶][耶][耶]\\n大佬们好\\n(...</td>\n",
       "    </tr>\n",
       "    <tr>\n",
       "      <th>3</th>\n",
       "      <td>wxid_mugbf0fhylqf22,wxid_g7u000tjc91t22,wxid_y...</td>\n",
       "      <td>0 days 00:11:22</td>\n",
       "      <td>cjdsa\\n[表情包]\\n好巧\\n我也是六排。\\n[表情包]\\n天哪我才3分钟没看群感觉被...</td>\n",
       "    </tr>\n",
       "    <tr>\n",
       "      <th>4</th>\n",
       "      <td>wxid_g7u000tjc91t22,wxid_urt2jnq879zd29,voup_w...</td>\n",
       "      <td>0 days 00:14:21</td>\n",
       "      <td>[表情包]\\n[旺柴][旺柴][旺柴]\\n用screentogif，一个软件\\n我用的是LI...</td>\n",
       "    </tr>\n",
       "    <tr>\n",
       "      <th>...</th>\n",
       "      <td>...</td>\n",
       "      <td>...</td>\n",
       "      <td>...</td>\n",
       "    </tr>\n",
       "    <tr>\n",
       "      <th>2710</th>\n",
       "      <td>wxid_2m6mvqnohoy032,wxid_g7u000tjc91t22,wxid_r...</td>\n",
       "      <td>0 days 00:09:07</td>\n",
       "      <td>第一次不是peace老师第一个点赞！\\n[表情包]\\n[表情包]\\n@25 电子 谷和平 谷...</td>\n",
       "    </tr>\n",
       "    <tr>\n",
       "      <th>2711</th>\n",
       "      <td>wxid_m76swlb22bn132,wxid_g7u000tjc91t22,wxid_r...</td>\n",
       "      <td>0 days 00:03:21</td>\n",
       "      <td>刚在看文档，发现好多人没用模板\\n[表情包]\\n[表情包]\\n[表情包]\\n哪里有模版我看看...</td>\n",
       "    </tr>\n",
       "    <tr>\n",
       "      <th>2712</th>\n",
       "      <td>wxid_mugbf0fhylqf22,wxid_1jauivdztqzt22,wxid_g...</td>\n",
       "      <td>0 days 00:01:23</td>\n",
       "      <td>斯国一\\n群里怎么每次进来都是你们几个\\n[表情包]\\n[表情包]\\n哈？\\n[图片]\\n还...</td>\n",
       "    </tr>\n",
       "    <tr>\n",
       "      <th>2713</th>\n",
       "      <td>wxid_g7u000tjc91t22,wxid_mugbf0fhylqf22,wxid_m...</td>\n",
       "      <td>0 days 00:01:35</td>\n",
       "      <td>[表情包]\\n[表情包]\\n[表情包]\\n心疼健小熊今天的早八人\\n表情包全是水群水来的\\n...</td>\n",
       "    </tr>\n",
       "    <tr>\n",
       "      <th>2714</th>\n",
       "      <td>wxid_m76swlb22bn132,wxid_g7u000tjc91t22,wxid_m...</td>\n",
       "      <td>0 days 00:04:07</td>\n",
       "      <td>全体吗\\n[表情包]\\n是的\\n[表情包]\\n[表情包]\\n[表情包]\\n[表情包]\\n[表情包]</td>\n",
       "    </tr>\n",
       "  </tbody>\n",
       "</table>\n",
       "<p>2715 rows × 3 columns</p>\n",
       "</div>"
      ]
     },
     "execution_count": 7,
     "metadata": {},
     "output_type": "execute_result"
    }
   ],
   "execution_count": 7
  },
  {
   "metadata": {
    "ExecuteTime": {
     "end_time": "2025-10-15T07:45:52.405841Z",
     "start_time": "2025-10-15T07:45:52.398017Z"
    }
   },
   "cell_type": "code",
   "source": "df[\"Text\"]",
   "id": "13361e79827c2dcc",
   "outputs": [
    {
     "data": {
      "text/plain": [
       "0       👀\\n👀\\n你不乘噢\\n👀\\n👀\\n之前在食堂偶遇的[捂脸]\\n@25 匡院 苏涵瑜 我在你...\n",
       "1       真的很无聊了\\nxm社牛\\n[表情包]\\n[表情包]\\n我说现在@25 匡院 苏涵瑜 \\n[...\n",
       "2       东西两个操场（）\\n欢迎新人 @25 匡院 洪翌铭 \\n[耶][耶][耶]\\n大佬们好\\n(...\n",
       "3       cjdsa\\n[表情包]\\n好巧\\n我也是六排。\\n[表情包]\\n天哪我才3分钟没看群感觉被...\n",
       "4       [表情包]\\n[旺柴][旺柴][旺柴]\\n用screentogif，一个软件\\n我用的是LI...\n",
       "                              ...                        \n",
       "2710    第一次不是peace老师第一个点赞！\\n[表情包]\\n[表情包]\\n@25 电子 谷和平 谷...\n",
       "2711    刚在看文档，发现好多人没用模板\\n[表情包]\\n[表情包]\\n[表情包]\\n哪里有模版我看看...\n",
       "2712    斯国一\\n群里怎么每次进来都是你们几个\\n[表情包]\\n[表情包]\\n哈？\\n[图片]\\n还...\n",
       "2713    [表情包]\\n[表情包]\\n[表情包]\\n心疼健小熊今天的早八人\\n表情包全是水群水来的\\n...\n",
       "2714    全体吗\\n[表情包]\\n是的\\n[表情包]\\n[表情包]\\n[表情包]\\n[表情包]\\n[表情包]\n",
       "Name: Text, Length: 2715, dtype: object"
      ]
     },
     "execution_count": 13,
     "metadata": {},
     "output_type": "execute_result"
    }
   ],
   "execution_count": 13
  },
  {
   "metadata": {
    "ExecuteTime": {
     "end_time": "2025-10-15T10:30:26.841062Z",
     "start_time": "2025-10-15T10:30:26.834279Z"
    }
   },
   "cell_type": "code",
   "source": [
    "Text = df[\"Text\"]\n",
    "len(Text)"
   ],
   "id": "48487e799a989a5f",
   "outputs": [
    {
     "data": {
      "text/plain": [
       "2715"
      ]
     },
     "execution_count": 11,
     "metadata": {},
     "output_type": "execute_result"
    }
   ],
   "execution_count": 11
  },
  {
   "metadata": {
    "ExecuteTime": {
     "end_time": "2025-10-15T10:31:40.616730Z",
     "start_time": "2025-10-15T10:31:39.552282Z"
    }
   },
   "cell_type": "code",
   "source": [
    "from tqdm import tqdm\n",
    "import time\n",
    "for i in tqdm(range(100)):\n",
    "    time.sleep(0.01)"
   ],
   "id": "ba38c7065ce9c12d",
   "outputs": [
    {
     "name": "stderr",
     "output_type": "stream",
     "text": [
      "100%|██████████| 100/100 [00:01<00:00, 94.14it/s]\n"
     ]
    }
   ],
   "execution_count": 14
  },
  {
   "metadata": {
    "ExecuteTime": {
     "end_time": "2025-10-15T11:10:21.928704Z",
     "start_time": "2025-10-15T10:32:52.276778Z"
    }
   },
   "cell_type": "code",
   "source": [
    "lst = []\n",
    "Text = df[\"Text\"]\n",
    "for i in tqdm(range(len(Text))):#len(df[\"Text\"])\n",
    "    message = Text[i]\n",
    "    result = call_qwen_model()\n",
    "    lst.append(result)"
   ],
   "id": "ac170b1954fafa04",
   "outputs": [
    {
     "name": "stderr",
     "output_type": "stream",
     "text": [
      "100%|██████████| 2715/2715 [37:29<00:00,  1.21it/s]  \n"
     ]
    }
   ],
   "execution_count": 15
  },
  {
   "metadata": {
    "ExecuteTime": {
     "end_time": "2025-10-15T11:14:22.015435Z",
     "start_time": "2025-10-15T11:14:22.009589Z"
    }
   },
   "cell_type": "code",
   "source": "new_float_list = pd.to_numeric(lst, errors='coerce')",
   "id": "d966b917a32984fb",
   "outputs": [],
   "execution_count": 18
  },
  {
   "metadata": {
    "ExecuteTime": {
     "end_time": "2025-10-15T11:14:34.576578Z",
     "start_time": "2025-10-15T11:14:34.560430Z"
    }
   },
   "cell_type": "code",
   "source": [
    "df['acc'] = new_float_list\n",
    "df"
   ],
   "id": "14566c9040b7502f",
   "outputs": [
    {
     "data": {
      "text/plain": [
       "                                                   wxid         duration  \\\n",
       "0     wxid_bk2z2t2ychyn22,wxid_9hpjr3hpy6th22,wxid_g...  0 days 00:01:11   \n",
       "1     wxid_1vaqhsp5n5hs22,wxid_g7u000tjc91t22,wxid_r...  0 days 00:02:42   \n",
       "2     wxid_6djxj0s8zolf22,wxid_g7u000tjc91t22,wxid_m...  0 days 00:02:06   \n",
       "3     wxid_mugbf0fhylqf22,wxid_g7u000tjc91t22,wxid_y...  0 days 00:11:22   \n",
       "4     wxid_g7u000tjc91t22,wxid_urt2jnq879zd29,voup_w...  0 days 00:14:21   \n",
       "...                                                 ...              ...   \n",
       "2710  wxid_2m6mvqnohoy032,wxid_g7u000tjc91t22,wxid_r...  0 days 00:09:07   \n",
       "2711  wxid_m76swlb22bn132,wxid_g7u000tjc91t22,wxid_r...  0 days 00:03:21   \n",
       "2712  wxid_mugbf0fhylqf22,wxid_1jauivdztqzt22,wxid_g...  0 days 00:01:23   \n",
       "2713  wxid_g7u000tjc91t22,wxid_mugbf0fhylqf22,wxid_m...  0 days 00:01:35   \n",
       "2714  wxid_m76swlb22bn132,wxid_g7u000tjc91t22,wxid_m...  0 days 00:04:07   \n",
       "\n",
       "                                                   Text    acc  \n",
       "0     👀\\n👀\\n你不乘噢\\n👀\\n👀\\n之前在食堂偶遇的[捂脸]\\n@25 匡院 苏涵瑜 我在你...  0.150  \n",
       "1     真的很无聊了\\nxm社牛\\n[表情包]\\n[表情包]\\n我说现在@25 匡院 苏涵瑜 \\n[...  0.150  \n",
       "2     东西两个操场（）\\n欢迎新人 @25 匡院 洪翌铭 \\n[耶][耶][耶]\\n大佬们好\\n(...  0.125  \n",
       "3     cjdsa\\n[表情包]\\n好巧\\n我也是六排。\\n[表情包]\\n天哪我才3分钟没看群感觉被...  0.150  \n",
       "4     [表情包]\\n[旺柴][旺柴][旺柴]\\n用screentogif，一个软件\\n我用的是LI...  0.150  \n",
       "...                                                 ...    ...  \n",
       "2710  第一次不是peace老师第一个点赞！\\n[表情包]\\n[表情包]\\n@25 电子 谷和平 谷...  0.150  \n",
       "2711  刚在看文档，发现好多人没用模板\\n[表情包]\\n[表情包]\\n[表情包]\\n哪里有模版我看看...  0.325  \n",
       "2712  斯国一\\n群里怎么每次进来都是你们几个\\n[表情包]\\n[表情包]\\n哈？\\n[图片]\\n还...  0.150  \n",
       "2713  [表情包]\\n[表情包]\\n[表情包]\\n心疼健小熊今天的早八人\\n表情包全是水群水来的\\n...  0.150  \n",
       "2714  全体吗\\n[表情包]\\n是的\\n[表情包]\\n[表情包]\\n[表情包]\\n[表情包]\\n[表情包]  0.150  \n",
       "\n",
       "[2715 rows x 4 columns]"
      ],
      "text/html": [
       "<div>\n",
       "<style scoped>\n",
       "    .dataframe tbody tr th:only-of-type {\n",
       "        vertical-align: middle;\n",
       "    }\n",
       "\n",
       "    .dataframe tbody tr th {\n",
       "        vertical-align: top;\n",
       "    }\n",
       "\n",
       "    .dataframe thead th {\n",
       "        text-align: right;\n",
       "    }\n",
       "</style>\n",
       "<table border=\"1\" class=\"dataframe\">\n",
       "  <thead>\n",
       "    <tr style=\"text-align: right;\">\n",
       "      <th></th>\n",
       "      <th>wxid</th>\n",
       "      <th>duration</th>\n",
       "      <th>Text</th>\n",
       "      <th>acc</th>\n",
       "    </tr>\n",
       "  </thead>\n",
       "  <tbody>\n",
       "    <tr>\n",
       "      <th>0</th>\n",
       "      <td>wxid_bk2z2t2ychyn22,wxid_9hpjr3hpy6th22,wxid_g...</td>\n",
       "      <td>0 days 00:01:11</td>\n",
       "      <td>👀\\n👀\\n你不乘噢\\n👀\\n👀\\n之前在食堂偶遇的[捂脸]\\n@25 匡院 苏涵瑜 我在你...</td>\n",
       "      <td>0.150</td>\n",
       "    </tr>\n",
       "    <tr>\n",
       "      <th>1</th>\n",
       "      <td>wxid_1vaqhsp5n5hs22,wxid_g7u000tjc91t22,wxid_r...</td>\n",
       "      <td>0 days 00:02:42</td>\n",
       "      <td>真的很无聊了\\nxm社牛\\n[表情包]\\n[表情包]\\n我说现在@25 匡院 苏涵瑜 \\n[...</td>\n",
       "      <td>0.150</td>\n",
       "    </tr>\n",
       "    <tr>\n",
       "      <th>2</th>\n",
       "      <td>wxid_6djxj0s8zolf22,wxid_g7u000tjc91t22,wxid_m...</td>\n",
       "      <td>0 days 00:02:06</td>\n",
       "      <td>东西两个操场（）\\n欢迎新人 @25 匡院 洪翌铭 \\n[耶][耶][耶]\\n大佬们好\\n(...</td>\n",
       "      <td>0.125</td>\n",
       "    </tr>\n",
       "    <tr>\n",
       "      <th>3</th>\n",
       "      <td>wxid_mugbf0fhylqf22,wxid_g7u000tjc91t22,wxid_y...</td>\n",
       "      <td>0 days 00:11:22</td>\n",
       "      <td>cjdsa\\n[表情包]\\n好巧\\n我也是六排。\\n[表情包]\\n天哪我才3分钟没看群感觉被...</td>\n",
       "      <td>0.150</td>\n",
       "    </tr>\n",
       "    <tr>\n",
       "      <th>4</th>\n",
       "      <td>wxid_g7u000tjc91t22,wxid_urt2jnq879zd29,voup_w...</td>\n",
       "      <td>0 days 00:14:21</td>\n",
       "      <td>[表情包]\\n[旺柴][旺柴][旺柴]\\n用screentogif，一个软件\\n我用的是LI...</td>\n",
       "      <td>0.150</td>\n",
       "    </tr>\n",
       "    <tr>\n",
       "      <th>...</th>\n",
       "      <td>...</td>\n",
       "      <td>...</td>\n",
       "      <td>...</td>\n",
       "      <td>...</td>\n",
       "    </tr>\n",
       "    <tr>\n",
       "      <th>2710</th>\n",
       "      <td>wxid_2m6mvqnohoy032,wxid_g7u000tjc91t22,wxid_r...</td>\n",
       "      <td>0 days 00:09:07</td>\n",
       "      <td>第一次不是peace老师第一个点赞！\\n[表情包]\\n[表情包]\\n@25 电子 谷和平 谷...</td>\n",
       "      <td>0.150</td>\n",
       "    </tr>\n",
       "    <tr>\n",
       "      <th>2711</th>\n",
       "      <td>wxid_m76swlb22bn132,wxid_g7u000tjc91t22,wxid_r...</td>\n",
       "      <td>0 days 00:03:21</td>\n",
       "      <td>刚在看文档，发现好多人没用模板\\n[表情包]\\n[表情包]\\n[表情包]\\n哪里有模版我看看...</td>\n",
       "      <td>0.325</td>\n",
       "    </tr>\n",
       "    <tr>\n",
       "      <th>2712</th>\n",
       "      <td>wxid_mugbf0fhylqf22,wxid_1jauivdztqzt22,wxid_g...</td>\n",
       "      <td>0 days 00:01:23</td>\n",
       "      <td>斯国一\\n群里怎么每次进来都是你们几个\\n[表情包]\\n[表情包]\\n哈？\\n[图片]\\n还...</td>\n",
       "      <td>0.150</td>\n",
       "    </tr>\n",
       "    <tr>\n",
       "      <th>2713</th>\n",
       "      <td>wxid_g7u000tjc91t22,wxid_mugbf0fhylqf22,wxid_m...</td>\n",
       "      <td>0 days 00:01:35</td>\n",
       "      <td>[表情包]\\n[表情包]\\n[表情包]\\n心疼健小熊今天的早八人\\n表情包全是水群水来的\\n...</td>\n",
       "      <td>0.150</td>\n",
       "    </tr>\n",
       "    <tr>\n",
       "      <th>2714</th>\n",
       "      <td>wxid_m76swlb22bn132,wxid_g7u000tjc91t22,wxid_m...</td>\n",
       "      <td>0 days 00:04:07</td>\n",
       "      <td>全体吗\\n[表情包]\\n是的\\n[表情包]\\n[表情包]\\n[表情包]\\n[表情包]\\n[表情包]</td>\n",
       "      <td>0.150</td>\n",
       "    </tr>\n",
       "  </tbody>\n",
       "</table>\n",
       "<p>2715 rows × 4 columns</p>\n",
       "</div>"
      ]
     },
     "execution_count": 19,
     "metadata": {},
     "output_type": "execute_result"
    }
   ],
   "execution_count": 19
  },
  {
   "metadata": {
    "ExecuteTime": {
     "end_time": "2025-10-15T11:16:50.518493Z",
     "start_time": "2025-10-15T11:16:50.501291Z"
    }
   },
   "cell_type": "code",
   "source": "df[df[\"acc\"]>0.9]",
   "id": "c706baf2990bd837",
   "outputs": [
    {
     "data": {
      "text/plain": [
       "                                                   wxid         duration  \\\n",
       "1698  wxid_rj6x2vxxfecy12,wxid_mugbf0fhylqf22,wxid_u...  0 days 00:15:07   \n",
       "\n",
       "                                                   Text    acc  \n",
       "1698  你遇到了语雀 API 获取文档列表只能拿到前 100 篇文档的限制。别担心，这个问题通常可以...  0.935  "
      ],
      "text/html": [
       "<div>\n",
       "<style scoped>\n",
       "    .dataframe tbody tr th:only-of-type {\n",
       "        vertical-align: middle;\n",
       "    }\n",
       "\n",
       "    .dataframe tbody tr th {\n",
       "        vertical-align: top;\n",
       "    }\n",
       "\n",
       "    .dataframe thead th {\n",
       "        text-align: right;\n",
       "    }\n",
       "</style>\n",
       "<table border=\"1\" class=\"dataframe\">\n",
       "  <thead>\n",
       "    <tr style=\"text-align: right;\">\n",
       "      <th></th>\n",
       "      <th>wxid</th>\n",
       "      <th>duration</th>\n",
       "      <th>Text</th>\n",
       "      <th>acc</th>\n",
       "    </tr>\n",
       "  </thead>\n",
       "  <tbody>\n",
       "    <tr>\n",
       "      <th>1698</th>\n",
       "      <td>wxid_rj6x2vxxfecy12,wxid_mugbf0fhylqf22,wxid_u...</td>\n",
       "      <td>0 days 00:15:07</td>\n",
       "      <td>你遇到了语雀 API 获取文档列表只能拿到前 100 篇文档的限制。别担心，这个问题通常可以...</td>\n",
       "      <td>0.935</td>\n",
       "    </tr>\n",
       "  </tbody>\n",
       "</table>\n",
       "</div>"
      ]
     },
     "execution_count": 28,
     "metadata": {},
     "output_type": "execute_result"
    }
   ],
   "execution_count": 28
  },
  {
   "metadata": {
    "ExecuteTime": {
     "end_time": "2025-10-15T11:16:59.031543Z",
     "start_time": "2025-10-15T11:16:59.007682Z"
    }
   },
   "cell_type": "code",
   "source": [
    "# 6️⃣ 保存结果\n",
    "df.to_csv(\"ana_all.csv\", index=False, encoding=\"utf-8-sig\")"
   ],
   "id": "b84785745099435b",
   "outputs": [],
   "execution_count": 29
  }
 ],
 "metadata": {
  "kernelspec": {
   "display_name": "Python 3",
   "language": "python",
   "name": "python3"
  },
  "language_info": {
   "codemirror_mode": {
    "name": "ipython",
    "version": 2
   },
   "file_extension": ".py",
   "mimetype": "text/x-python",
   "name": "python",
   "nbconvert_exporter": "python",
   "pygments_lexer": "ipython2",
   "version": "2.7.6"
  }
 },
 "nbformat": 4,
 "nbformat_minor": 5
}
