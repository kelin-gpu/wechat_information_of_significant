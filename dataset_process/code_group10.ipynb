{
 "cells": [
  {
   "metadata": {
    "ExecuteTime": {
     "end_time": "2025-10-15T07:37:46.674387Z",
     "start_time": "2025-10-15T07:37:46.091961Z"
    }
   },
   "cell_type": "code",
   "source": [
    "import pandas as pd\n",
    "from datetime import datetime"
   ],
   "id": "e4f40477886d27a1",
   "outputs": [],
   "execution_count": 2
  },
  {
   "metadata": {
    "ExecuteTime": {
     "end_time": "2025-10-15T07:38:08.692099Z",
     "start_time": "2025-10-15T07:38:08.640904Z"
    }
   },
   "cell_type": "code",
   "source": [
    "df = pd.read_csv(\"ama_message.csv\")\n",
    "df"
   ],
   "id": "a25d83bdd10725cf",
   "outputs": [
    {
     "data": {
      "text/plain": [
       "                      wxid            Timestamp   Text\n",
       "0      wxid_bk2z2t2ychyn22  2025-09-04 03:52:12      👀\n",
       "1      wxid_9hpjr3hpy6th22  2025-09-04 03:52:17      👀\n",
       "2      wxid_bk2z2t2ychyn22  2025-09-04 03:52:28   你不乘噢\n",
       "3      wxid_g7u000tjc91t22  2025-09-04 03:52:50      👀\n",
       "4      wxid_mugbf0fhylqf22  2025-09-04 03:53:07      👀\n",
       "...                    ...                  ...    ...\n",
       "27143  wxid_g7u000tjc91t22  2025-10-13 01:59:58  [表情包]\n",
       "27144  wxid_g7u000tjc91t22  2025-10-13 02:00:06  [表情包]\n",
       "27145  wxid_g7u000tjc91t22  2025-10-13 02:00:13  [表情包]\n",
       "27146  wxid_g7u000tjc91t22  2025-10-13 02:03:03  [表情包]\n",
       "27147  wxid_g7u000tjc91t22  2025-10-13 02:03:42  [表情包]\n",
       "\n",
       "[27148 rows x 3 columns]"
      ],
      "text/html": [
       "<div>\n",
       "<style scoped>\n",
       "    .dataframe tbody tr th:only-of-type {\n",
       "        vertical-align: middle;\n",
       "    }\n",
       "\n",
       "    .dataframe tbody tr th {\n",
       "        vertical-align: top;\n",
       "    }\n",
       "\n",
       "    .dataframe thead th {\n",
       "        text-align: right;\n",
       "    }\n",
       "</style>\n",
       "<table border=\"1\" class=\"dataframe\">\n",
       "  <thead>\n",
       "    <tr style=\"text-align: right;\">\n",
       "      <th></th>\n",
       "      <th>wxid</th>\n",
       "      <th>Timestamp</th>\n",
       "      <th>Text</th>\n",
       "    </tr>\n",
       "  </thead>\n",
       "  <tbody>\n",
       "    <tr>\n",
       "      <th>0</th>\n",
       "      <td>wxid_bk2z2t2ychyn22</td>\n",
       "      <td>2025-09-04 03:52:12</td>\n",
       "      <td>👀</td>\n",
       "    </tr>\n",
       "    <tr>\n",
       "      <th>1</th>\n",
       "      <td>wxid_9hpjr3hpy6th22</td>\n",
       "      <td>2025-09-04 03:52:17</td>\n",
       "      <td>👀</td>\n",
       "    </tr>\n",
       "    <tr>\n",
       "      <th>2</th>\n",
       "      <td>wxid_bk2z2t2ychyn22</td>\n",
       "      <td>2025-09-04 03:52:28</td>\n",
       "      <td>你不乘噢</td>\n",
       "    </tr>\n",
       "    <tr>\n",
       "      <th>3</th>\n",
       "      <td>wxid_g7u000tjc91t22</td>\n",
       "      <td>2025-09-04 03:52:50</td>\n",
       "      <td>👀</td>\n",
       "    </tr>\n",
       "    <tr>\n",
       "      <th>4</th>\n",
       "      <td>wxid_mugbf0fhylqf22</td>\n",
       "      <td>2025-09-04 03:53:07</td>\n",
       "      <td>👀</td>\n",
       "    </tr>\n",
       "    <tr>\n",
       "      <th>...</th>\n",
       "      <td>...</td>\n",
       "      <td>...</td>\n",
       "      <td>...</td>\n",
       "    </tr>\n",
       "    <tr>\n",
       "      <th>27143</th>\n",
       "      <td>wxid_g7u000tjc91t22</td>\n",
       "      <td>2025-10-13 01:59:58</td>\n",
       "      <td>[表情包]</td>\n",
       "    </tr>\n",
       "    <tr>\n",
       "      <th>27144</th>\n",
       "      <td>wxid_g7u000tjc91t22</td>\n",
       "      <td>2025-10-13 02:00:06</td>\n",
       "      <td>[表情包]</td>\n",
       "    </tr>\n",
       "    <tr>\n",
       "      <th>27145</th>\n",
       "      <td>wxid_g7u000tjc91t22</td>\n",
       "      <td>2025-10-13 02:00:13</td>\n",
       "      <td>[表情包]</td>\n",
       "    </tr>\n",
       "    <tr>\n",
       "      <th>27146</th>\n",
       "      <td>wxid_g7u000tjc91t22</td>\n",
       "      <td>2025-10-13 02:03:03</td>\n",
       "      <td>[表情包]</td>\n",
       "    </tr>\n",
       "    <tr>\n",
       "      <th>27147</th>\n",
       "      <td>wxid_g7u000tjc91t22</td>\n",
       "      <td>2025-10-13 02:03:42</td>\n",
       "      <td>[表情包]</td>\n",
       "    </tr>\n",
       "  </tbody>\n",
       "</table>\n",
       "<p>27148 rows × 3 columns</p>\n",
       "</div>"
      ]
     },
     "execution_count": 5,
     "metadata": {},
     "output_type": "execute_result"
    }
   ],
   "execution_count": 5
  },
  {
   "cell_type": "code",
   "id": "initial_id",
   "metadata": {
    "collapsed": true,
    "ExecuteTime": {
     "end_time": "2025-10-15T07:40:33.674212Z",
     "start_time": "2025-10-15T07:40:33.147857Z"
    }
   },
   "source": [
    "# 确保时间戳格式正确\n",
    "df[\"Timestamp\"] = pd.to_datetime(df[\"Timestamp\"])\n",
    "\n",
    "# 每 10 行为一组\n",
    "grouped = []\n",
    "for i in range(0, len(df), 10):\n",
    "    group = df.iloc[i:i+10]\n",
    "    wxid_combined = \",\".join(group[\"wxid\"].unique())  # 去重后合并\n",
    "    time_length = (group[\"Timestamp\"].max() - group[\"Timestamp\"].min())  # 时间差\n",
    "    text_combined = \"\\n\".join(group[\"Text\"].astype(str))\n",
    "    grouped.append({\"wxid\": wxid_combined, \"duration\": time_length, \"Text\": text_combined})\n",
    "\n",
    "# 转换为DataFrame\n",
    "result_df = pd.DataFrame(grouped)"
   ],
   "outputs": [
    {
     "data": {
      "text/plain": [
       "'一排呢\\n什么时候演练\\n四连呢\\n原来有安排顺序的吗\\n表上写昨天演练\\n我们并没有\\n[表情包]\\n😭\\n按顺序来的\\n我们也是今天下午'"
      ]
     },
     "execution_count": 9,
     "metadata": {},
     "output_type": "execute_result"
    }
   ],
   "execution_count": 9
  },
  {
   "metadata": {
    "ExecuteTime": {
     "end_time": "2025-10-15T07:41:13.100730Z",
     "start_time": "2025-10-15T07:41:13.048938Z"
    }
   },
   "cell_type": "code",
   "source": [
    "# 6️⃣ 保存结果\n",
    "result_df.to_csv(\"ama_group_message.csv\", index=False, encoding=\"utf-8-sig\")\n",
    "\n",
    "print(f\"✅ 已成功提取 {len(result_df)} 条有效消息。\")\n",
    "print(\"🎉 输出文件: ama_done.csv\")\n",
    "print(result_df.head(10))"
   ],
   "id": "b9561d0a87662a01",
   "outputs": [
    {
     "name": "stdout",
     "output_type": "stream",
     "text": [
      "✅ 已成功提取 2715 条有效消息。\n",
      "🎉 输出文件: ama_done.csv\n",
      "                                                wxid        duration  \\\n",
      "0  wxid_bk2z2t2ychyn22,wxid_9hpjr3hpy6th22,wxid_g... 0 days 00:01:11   \n",
      "1  wxid_1vaqhsp5n5hs22,wxid_g7u000tjc91t22,wxid_r... 0 days 00:02:42   \n",
      "2  wxid_6djxj0s8zolf22,wxid_g7u000tjc91t22,wxid_m... 0 days 00:02:06   \n",
      "3  wxid_mugbf0fhylqf22,wxid_g7u000tjc91t22,wxid_y... 0 days 00:11:22   \n",
      "4  wxid_g7u000tjc91t22,wxid_urt2jnq879zd29,voup_w... 0 days 00:14:21   \n",
      "5  wxid_urt2jnq879zd29,wxid_pu9b9bpup9jk22,wxid_m... 0 days 00:03:32   \n",
      "6  wxid_g7u000tjc91t22,wxid_jiiuct4zx7522,wxid_5c... 0 days 00:04:48   \n",
      "7  wxid_jiiuct4zx7522,wxid_g7u000tjc91t22,wxid_1v... 0 days 00:01:34   \n",
      "8  wxid_g7u000tjc91t22,wxid_1vaqhsp5n5hs22,wxid_9... 0 days 00:01:25   \n",
      "9  wxid_9hpjr3hpy6th22,wxid_nzs11xlkvlc512,wxid_u... 0 days 00:00:26   \n",
      "\n",
      "                                                Text  \n",
      "0  👀\\n👀\\n你不乘噢\\n👀\\n👀\\n之前在食堂偶遇的[捂脸]\\n@25 匡院 苏涵瑜 我在你...  \n",
      "1  真的很无聊了\\nxm社牛\\n[表情包]\\n[表情包]\\n我说现在@25 匡院 苏涵瑜 \\n[...  \n",
      "2  东西两个操场（）\\n欢迎新人 @25 匡院 洪翌铭 \\n[耶][耶][耶]\\n大佬们好\\n(...  \n",
      "3  cjdsa\\n[表情包]\\n好巧\\n我也是六排。\\n[表情包]\\n天哪我才3分钟没看群感觉被...  \n",
      "4  [表情包]\\n[旺柴][旺柴][旺柴]\\n用screentogif，一个软件\\n我用的是LI...  \n",
      "5  再试一遍，还是这样吗[疑问]\\n我把两个软件都下了，cac老师那个太简洁了\\n于是我探索一下...  \n",
      "6  [表情包]\\n[表情包]\\n拿现代UI重写一遍[旺柴]\\n老软件功能没得说，就是UI看着有点...  \n",
      "7  xxdx有兴趣可以了解一下gui和cli的区别[旺柴]\\n[表情包]\\n[衰]\\n不能直连\\...  \n",
      "8  [图片]\\n学长们还是太强了\\n下午训练要死了\\n[表情包]\\n诸位我先死一步😭😭😭\\n啊啊...  \n",
      "9  下午不是消防演练吗\\n？\\n[惊讶]\\n？\\n？\\n[表情包]\\n操场的孩子\\n真的吗\\n七...  \n"
     ]
    }
   ],
   "execution_count": 10
  },
  {
   "metadata": {},
   "cell_type": "code",
   "outputs": [],
   "execution_count": null,
   "source": "",
   "id": "c189e683a9815276"
  }
 ],
 "metadata": {
  "kernelspec": {
   "display_name": "Python 3",
   "language": "python",
   "name": "python3"
  },
  "language_info": {
   "codemirror_mode": {
    "name": "ipython",
    "version": 2
   },
   "file_extension": ".py",
   "mimetype": "text/x-python",
   "name": "python",
   "nbconvert_exporter": "python",
   "pygments_lexer": "ipython2",
   "version": "2.7.6"
  }
 },
 "nbformat": 4,
 "nbformat_minor": 5
}
